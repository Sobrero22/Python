{
  "nbformat": 4,
  "nbformat_minor": 0,
  "metadata": {
    "colab": {
      "name": "FelipeSobrero_Aula3.ipynb",
      "provenance": [],
      "collapsed_sections": [],
      "authorship_tag": "ABX9TyP83x7ExXUYFNpctoXcpnt0",
      "include_colab_link": true
    },
    "kernelspec": {
      "name": "python3",
      "display_name": "Python 3"
    }
  },
  "cells": [
    {
      "cell_type": "markdown",
      "metadata": {
        "id": "view-in-github",
        "colab_type": "text"
      },
      "source": [
        "<a href=\"https://colab.research.google.com/github/Sobrero22/Python/blob/master/FelipeSobrero_Aula3.ipynb\" target=\"_parent\"><img src=\"https://colab.research.google.com/assets/colab-badge.svg\" alt=\"Open In Colab\"/></a>"
      ]
    },
    {
      "cell_type": "markdown",
      "metadata": {
        "id": "y-LffJ_8O9S_"
      },
      "source": [
        "Exercício 1)Crie uma funcão que tome um argumento e imprima o valor e o tipo dele."
      ]
    },
    {
      "cell_type": "code",
      "metadata": {
        "id": "EXaU9hedRZnm",
        "outputId": "b8fb79c3-4f4b-4679-8881-d96a15921878",
        "colab": {
          "base_uri": "https://localhost:8080/",
          "height": 51
        }
      },
      "source": [
        "def verso(poema) :\n",
        "    print(poema)\n",
        "    print('tipo de argumento',type(poema))\n",
        "\n",
        "verso('voar eu não vou nunca mais')"
      ],
      "execution_count": null,
      "outputs": [
        {
          "output_type": "stream",
          "text": [
            "voar eu não vou nunca mais\n",
            "tipo de argumento <class 'str'>\n"
          ],
          "name": "stdout"
        }
      ]
    },
    {
      "cell_type": "markdown",
      "metadata": {
        "id": "pEOkR86PO9cI"
      },
      "source": [
        "Exercício 2)Crie uma função que calcule e imprima velocidade media de um objeto a partir de uma posição inicial, a final e o tempo transcorrido para um objeto em MRU. Também crie uma funcão que calcule e imprima a velocidade de um objeto a partir da aceleração constante e o tempo (MRUA) (p.ex. queda libre)"
      ]
    },
    {
      "cell_type": "code",
      "metadata": {
        "id": "Vk4ESohvPXX8",
        "outputId": "6dd58a63-88e9-4d15-9f8b-60631db3ba66",
        "colab": {
          "base_uri": "https://localhost:8080/",
          "height": 102
        }
      },
      "source": [
        "x_i = float(input('Digite a posição inicial: '))\n",
        "x_f = float(input('Digite a posição final: '))\n",
        "a = float(input('Digite a aceleração: '))\n",
        "t = float(input('Digite o tempo transcorrido: '))\n",
        "\n",
        "if a == 0 :\n",
        "  def f1(x_i,x_f,t) : \n",
        "    vm = (x_f-x_i)/t\n",
        "    return vm\n",
        "\n",
        "  velocidade = f1(x_i,x_f,t) \n",
        "  print('A velocidade média é', velocidade, 'm/s')\n",
        "\n",
        "else :\n",
        "  def f2(a,t) :\n",
        "    v = a*t\n",
        "    return v\n",
        "\n",
        "  velocidade = f2(a,t) \n",
        "  print('A velocidade é', velocidade, 'm/s')"
      ],
      "execution_count": null,
      "outputs": [
        {
          "output_type": "stream",
          "text": [
            "Digite a posição inicial: 100\n",
            "Digite a posição final: 0\n",
            "Digite a aceleração: 9.81\n",
            "Digite o tempo transcorrido: 10\n",
            "A velocidade é 98.10000000000001 m/s\n"
          ],
          "name": "stdout"
        }
      ]
    },
    {
      "cell_type": "markdown",
      "metadata": {
        "id": "Zy2lV5KnO9lY"
      },
      "source": [
        "Exercício 3)Crie uma funcão para calcular o ángulo zenital do sol (da semana passada) tomando como argumento as medidas da altura e o comprimento da sombra."
      ]
    },
    {
      "cell_type": "code",
      "metadata": {
        "id": "gp77awAaPXwp",
        "outputId": "25e7ed14-1541-48aa-b36f-f88a02335107",
        "colab": {
          "base_uri": "https://localhost:8080/",
          "height": 68
        }
      },
      "source": [
        "h = float(input('Digite a altura: '))\n",
        "s = float(input('Digite o comprimento da sombra: '))\n",
        "\n",
        "import math\n",
        "\n",
        "def f(h,s) :\n",
        "  theta = round(math.degrees(math.atan(s/h)),2)\n",
        "  return theta\n",
        "\n",
        "theta = f(h,s)\n",
        "\n",
        "print('O angulo zenital é', theta, '°')"
      ],
      "execution_count": null,
      "outputs": [
        {
          "output_type": "stream",
          "text": [
            "Digite a altura: 10\n",
            "Digite o comprimento da sombra: 18\n",
            "O angulo zenital é 60.95 °\n"
          ],
          "name": "stdout"
        }
      ]
    },
    {
      "cell_type": "markdown",
      "metadata": {
        "id": "mp2xwJQ5O9uY"
      },
      "source": [
        "Exercício 4)Crie uma função que faça a conversão de uma medida inicialmente em milhas para m, e outra para o inverso; uma de horas para segundos, e o inverso. Utilize estas funções para resolver novamente o primeiro exercício da semana passada (da corrida). Se uma pessoa demora 30 minutos em 4 milhas, qual velocidade media em km/h ? e o tempo medio por kilometro?"
      ]
    },
    {
      "cell_type": "code",
      "metadata": {
        "id": "si51xLbIPYIk",
        "outputId": "ecbcbd04-4639-426c-e6ec-7e2091d0770d",
        "colab": {
          "base_uri": "https://localhost:8080/",
          "height": 68
        }
      },
      "source": [
        "answer = input('Sua medida está em metros ou em milhas? ')\n",
        "\n",
        "if answer=='metros':\n",
        "  metros = float(input('Digite sua medida: '))\n",
        "  \n",
        "  def converte_metros_em_milha(metros):\n",
        "    milhas = metros/1609.34\n",
        "    return milhas\n",
        "\n",
        "  milhas = converte_metros_em_milha(metros)\n",
        "  print('Sua medida em milhas é:', milhas)\n",
        "\n",
        "if answer=='milhas':\n",
        "  milhas = float(input('Digite sua medida:'))\n",
        "  \n",
        "  def converte_milhas_em_metros(milhas):\n",
        "    metros = milhas*1609.34\n",
        "    return metros\n",
        "\n",
        "  metros = converte_milhas_em_metros(milhas)\n",
        "  print('Sua medida em metros é:', metros)\n"
      ],
      "execution_count": null,
      "outputs": [
        {
          "output_type": "stream",
          "text": [
            "Sua medida está em metros ou em milhas? milhas\n",
            "Digite sua medida:4\n",
            "Sua medida em metros é: 6437.36\n"
          ],
          "name": "stdout"
        }
      ]
    },
    {
      "cell_type": "code",
      "metadata": {
        "id": "5qGXqp4jH2vg",
        "outputId": "76fb26c4-b90c-43be-a5c1-e0550698386a",
        "colab": {
          "base_uri": "https://localhost:8080/",
          "height": 68
        }
      },
      "source": [
        "answer = input('Sua medida está em horas ou em segundos? ')\n",
        "\n",
        "if answer=='horas':\n",
        "  horas = float(input('Digite sua medida: '))\n",
        "  \n",
        "  def converte_horas_em_segundos(horas):\n",
        "    segundos = horas*3600\n",
        "    return segundos\n",
        "\n",
        "  segundos = converte_horas_em_segundos(horas)\n",
        "  print('Sua medida em segundos é:', segundos)\n",
        "\n",
        "if answer=='segundos':\n",
        "  segundos = float(input('Digite sua medida:'))\n",
        "  \n",
        "  def converte_segundos_em_horas(segundos):\n",
        "    horas = segundos/3600\n",
        "    return horas\n",
        "\n",
        "  horas = converte_segundos_em_horas(segundos)\n",
        "  print('Sua medida em metros é:', horas)\n"
      ],
      "execution_count": null,
      "outputs": [
        {
          "output_type": "stream",
          "text": [
            "Sua medida está em horas ou em segundos? horas\n",
            "Digite sua medida: 0.07767159208122584\n",
            "Sua medida em segundos é: 279.61773149241304\n"
          ],
          "name": "stdout"
        }
      ]
    },
    {
      "cell_type": "code",
      "metadata": {
        "id": "xoa6C-f9H3Ne",
        "outputId": "868663d4-507a-439e-ab18-8161c546c2db",
        "colab": {
          "base_uri": "https://localhost:8080/",
          "height": 34
        }
      },
      "source": [
        "6437.36/(1000*0.5)"
      ],
      "execution_count": null,
      "outputs": [
        {
          "output_type": "execute_result",
          "data": {
            "text/plain": [
              "12.87472"
            ]
          },
          "metadata": {
            "tags": []
          },
          "execution_count": 32
        }
      ]
    },
    {
      "cell_type": "code",
      "metadata": {
        "id": "w1Z1ezEGSaQC",
        "outputId": "f82c94be-f6a7-4f67-8716-0a6354eb29cf",
        "colab": {
          "base_uri": "https://localhost:8080/",
          "height": 34
        }
      },
      "source": [
        "1/12.87472"
      ],
      "execution_count": null,
      "outputs": [
        {
          "output_type": "execute_result",
          "data": {
            "text/plain": [
              "0.07767159208122584"
            ]
          },
          "metadata": {
            "tags": []
          },
          "execution_count": 33
        }
      ]
    },
    {
      "cell_type": "markdown",
      "metadata": {
        "id": "w8UPb6sVR14u"
      },
      "source": [
        "Sua velocidade será 12.87 km/h.E o tempo médio será 279.62 s/km."
      ]
    },
    {
      "cell_type": "markdown",
      "metadata": {
        "id": "kyy4P4YaO92a"
      },
      "source": [
        "Exercício 5)Crie funções para calcular os outros exemplos das aulas anteriores: IMC, volume de uma esfera, distancia entre pontos de máximos de difração. Decida quais serão os argumentos e o valor retornado."
      ]
    },
    {
      "cell_type": "code",
      "metadata": {
        "id": "GhQWcjP0PVgp",
        "outputId": "3f230055-232d-4768-f421-d567c3285c57",
        "colab": {
          "base_uri": "https://localhost:8080/",
          "height": 85
        }
      },
      "source": [
        "massa = float(input('Qual a sua massa (em kg)?'))\n",
        "altura = float(input('Qual a sua altura (em metros)?'))\n",
        "\n",
        "def f(massa,altura):\n",
        "  IMC = round(massa/(altura**2),2)\n",
        "  return IMC\n",
        "\n",
        "IMC=f(massa,altura)\n",
        "\n",
        "answer=input('Você é homem ou mulher?')\n",
        "\n",
        "if IMC <18 :\n",
        "  print('Seu IMC é',IMC, '. Você está abaixo do peso.')\n",
        "\n",
        "elif answer=='mulher' and IMC >=18 and IMC <=24:\n",
        "  print('Seu IMC é',IMC, '. Você tem um IMC considerado normal.')\n",
        "\n",
        "elif answer=='homem' and IMC >=18 and IMC <=25:\n",
        "  print('Seu IMC é',IMC, '. Você tem um IMC considerado normal.')\n",
        "\n",
        "else:\n",
        "  print('Seu IMC é',IMC, '. Você está com sobrepeso.')"
      ],
      "execution_count": null,
      "outputs": [
        {
          "output_type": "stream",
          "text": [
            "Qual a sua massa (em kg)?80\n",
            "Qual a sua altura (em metros)?1.8\n",
            "Você é homem ou mulher?mulher\n",
            "Seu IMC é 24.69 . Você está com sobrepeso.\n"
          ],
          "name": "stdout"
        }
      ]
    },
    {
      "cell_type": "code",
      "metadata": {
        "id": "EHyIII5yUXO-",
        "outputId": "405680d6-a67f-4dde-e4db-89a794909a42",
        "colab": {
          "base_uri": "https://localhost:8080/",
          "height": 51
        }
      },
      "source": [
        "raio=float(input('Qual o raio da esfera (em metros)? '))\n",
        "\n",
        "import math\n",
        "\n",
        "def f(raio):\n",
        "  volume = round((4/3)*math.pi*(raio**3),2)\n",
        "  return volume\n",
        "\n",
        "volume = f(raio)\n",
        "print('O volume da esfera é',volume,'m³')"
      ],
      "execution_count": null,
      "outputs": [
        {
          "output_type": "stream",
          "text": [
            "Qual o raio da esfera (em metros)? 5\n",
            "O volume da esfera é 523.6 m³\n"
          ],
          "name": "stdout"
        }
      ]
    },
    {
      "cell_type": "code",
      "metadata": {
        "id": "J2Vuu7GbUYMQ",
        "outputId": "af0df54f-1910-4484-f11e-19b878002e14",
        "colab": {
          "base_uri": "https://localhost:8080/",
          "height": 85
        }
      },
      "source": [
        "lamb=float(input('Qual o comprimento de onda do laser (dado em nanometros)? '))\n",
        "D=float(input('Qual a distancia do anteparo (dado em metros)? '))\n",
        "d=float(input('Qual a o espaçamento entre as fendas (dado em milimetros)? '))\n",
        "\n",
        "def f3(lamb,D,d):\n",
        "  max_de_difracao=lamb*D*1000/((10**9)*d)\n",
        "  return max_de_difracao\n",
        "\n",
        "max_de_difracao=f3(lamb,D,d)\n",
        "print('A distancia entre dois máximos consecutivos será',max_de_difracao,'m.')"
      ],
      "execution_count": null,
      "outputs": [
        {
          "output_type": "stream",
          "text": [
            "Qual o comprimento de onda do laser (dado em nanometros)? 530\n",
            "Qual a distancia do anteparo (dado em metros)? 2\n",
            "Qual a o espaçamento entre as fendas (dado em milimetros)? 10\n",
            "A distancia entre dois máximos consecutivos será 0.000106 m.\n"
          ],
          "name": "stdout"
        }
      ]
    }
  ]
}