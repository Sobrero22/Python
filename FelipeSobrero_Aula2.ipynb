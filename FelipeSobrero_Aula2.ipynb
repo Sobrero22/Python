{
  "nbformat": 4,
  "nbformat_minor": 0,
  "metadata": {
    "colab": {
      "name": "FelipeSobrero_Aula2.ipynb",
      "provenance": [],
      "collapsed_sections": [],
      "authorship_tag": "ABX9TyMgnZjtclVvIJzoiXwyX/mH",
      "include_colab_link": true
    },
    "kernelspec": {
      "name": "python3",
      "display_name": "Python 3"
    }
  },
  "cells": [
    {
      "cell_type": "markdown",
      "metadata": {
        "id": "view-in-github",
        "colab_type": "text"
      },
      "source": [
        "<a href=\"https://colab.research.google.com/github/Sobrero22/Python/blob/master/FelipeSobrero_Aula2.ipynb\" target=\"_parent\"><img src=\"https://colab.research.google.com/assets/colab-badge.svg\" alt=\"Open In Colab\"/></a>"
      ]
    },
    {
      "cell_type": "markdown",
      "metadata": {
        "id": "UrNfN0ecsLd1"
      },
      "source": [
        "Exercício 1)Considere as seguintes declarações de atribuições:\n",
        "\n",
        "largura = 17; altura = 12.0; delimitador = \".\"\n",
        "\n",
        "Para cada uma das expressões a seguir, escreva o valor das expressões e o tipo (do valor da expressão):\n",
        "\n",
        "1)largura/2\n",
        "\n",
        "2)largura/2.0\n",
        "\n",
        "3)altura/3\n",
        "\n",
        "4)1 + 2 * 5\n",
        "\n",
        "5)delimitador*5"
      ]
    },
    {
      "cell_type": "code",
      "metadata": {
        "id": "29zfcaebn6Qh"
      },
      "source": [
        "largura=17"
      ],
      "execution_count": null,
      "outputs": []
    },
    {
      "cell_type": "code",
      "metadata": {
        "id": "fE6g3Osps3bP"
      },
      "source": [
        "altura=12.0"
      ],
      "execution_count": null,
      "outputs": []
    },
    {
      "cell_type": "code",
      "metadata": {
        "id": "5y7chzl9s5Ev"
      },
      "source": [
        "delimitador=\".\""
      ],
      "execution_count": null,
      "outputs": []
    },
    {
      "cell_type": "markdown",
      "metadata": {
        "id": "Xnvw5giOtCod"
      },
      "source": [
        ""
      ]
    },
    {
      "cell_type": "code",
      "metadata": {
        "id": "N6z6FZR7s7Hv",
        "outputId": "29cff663-d7a2-4a77-fa9f-ac0569d7527c",
        "colab": {
          "base_uri": "https://localhost:8080/",
          "height": 34
        }
      },
      "source": [
        "1.\n",
        "largura/2"
      ],
      "execution_count": null,
      "outputs": [
        {
          "output_type": "execute_result",
          "data": {
            "text/plain": [
              "8.5"
            ]
          },
          "metadata": {
            "tags": []
          },
          "execution_count": 8
        }
      ]
    },
    {
      "cell_type": "code",
      "metadata": {
        "id": "CF7TI3Dls-3I",
        "outputId": "7baf32e5-5731-497e-8c6e-67be56538861",
        "colab": {
          "base_uri": "https://localhost:8080/",
          "height": 34
        }
      },
      "source": [
        "2.\n",
        "largura/2.0"
      ],
      "execution_count": null,
      "outputs": [
        {
          "output_type": "execute_result",
          "data": {
            "text/plain": [
              "8.5"
            ]
          },
          "metadata": {
            "tags": []
          },
          "execution_count": 9
        }
      ]
    },
    {
      "cell_type": "code",
      "metadata": {
        "id": "bwDjB3x_taUe",
        "outputId": "9031a7d0-16a5-4ea3-b237-6e10d7661619",
        "colab": {
          "base_uri": "https://localhost:8080/",
          "height": 34
        }
      },
      "source": [
        "3.\n",
        "altura/3"
      ],
      "execution_count": null,
      "outputs": [
        {
          "output_type": "execute_result",
          "data": {
            "text/plain": [
              "4.0"
            ]
          },
          "metadata": {
            "tags": []
          },
          "execution_count": 10
        }
      ]
    },
    {
      "cell_type": "code",
      "metadata": {
        "id": "PXHhNY0MvbLT",
        "outputId": "2ee0ecc2-2ed9-474e-c0a1-c2644aff7fc6",
        "colab": {
          "base_uri": "https://localhost:8080/",
          "height": 34
        }
      },
      "source": [
        "4.\n",
        "1+2*5"
      ],
      "execution_count": null,
      "outputs": [
        {
          "output_type": "execute_result",
          "data": {
            "text/plain": [
              "11"
            ]
          },
          "metadata": {
            "tags": []
          },
          "execution_count": 11
        }
      ]
    },
    {
      "cell_type": "code",
      "metadata": {
        "id": "YmTkn5Qmvdly",
        "outputId": "f307f8fa-9368-4d02-81e4-2c3e156bdfdb",
        "colab": {
          "base_uri": "https://localhost:8080/",
          "height": 35
        }
      },
      "source": [
        "5.\n",
        "delimitador*5"
      ],
      "execution_count": null,
      "outputs": [
        {
          "output_type": "execute_result",
          "data": {
            "application/vnd.google.colaboratory.intrinsic+json": {
              "type": "string"
            },
            "text/plain": [
              "'.....'"
            ]
          },
          "metadata": {
            "tags": []
          },
          "execution_count": 12
        }
      ]
    },
    {
      "cell_type": "markdown",
      "metadata": {
        "id": "XwL11pjzv5Re"
      },
      "source": [
        "Exercício 2)O volume de uma esfera de raio r é $\\frac{4}{3} \\pi r^{3}$\n",
        "\n",
        "Qual é o volume de uma esfera de raio 5?"
      ]
    },
    {
      "cell_type": "code",
      "metadata": {
        "id": "ZYma5gXIv-HJ"
      },
      "source": [
        "r=5\n",
        "pi=3.14"
      ],
      "execution_count": null,
      "outputs": []
    },
    {
      "cell_type": "code",
      "metadata": {
        "id": "FvdvmZNBwLOg"
      },
      "source": [
        "volume=(4*pi*r**3)/3"
      ],
      "execution_count": null,
      "outputs": []
    },
    {
      "cell_type": "code",
      "metadata": {
        "id": "UHiV1A9dwQrq",
        "outputId": "b54bebd0-e2bd-4a61-a968-104a7a350c9e",
        "colab": {
          "base_uri": "https://localhost:8080/",
          "height": 34
        }
      },
      "source": [
        "print(volume)"
      ],
      "execution_count": null,
      "outputs": [
        {
          "output_type": "stream",
          "text": [
            "523.3333333333334\n"
          ],
          "name": "stdout"
        }
      ]
    },
    {
      "cell_type": "markdown",
      "metadata": {
        "id": "bdwTPJk4wva-"
      },
      "source": [
        "Exercício 3)Suponha que o preço de um livro seja 24.95 reais, porém as livrarias têm desconto de 40%. Os custos de envio são de 3.00 reais para o primeiro livro e 0.75 reais para os livros adicionais. Qual é o custo total da compra de 60 livros?\n",
        "\n"
      ]
    },
    {
      "cell_type": "code",
      "metadata": {
        "id": "-laGEBzhwx73"
      },
      "source": [
        "livro=24.95\n",
        "desconto=0.40\n",
        "envio1=3.00\n",
        "envio2=0.75"
      ],
      "execution_count": null,
      "outputs": []
    },
    {
      "cell_type": "code",
      "metadata": {
        "id": "Z9klgQ9-xXKh"
      },
      "source": [
        "total=round(livro*(1-desconto)*60+envio1+envio2*59,2)"
      ],
      "execution_count": null,
      "outputs": []
    },
    {
      "cell_type": "code",
      "metadata": {
        "id": "JY97Roxnx7BW",
        "outputId": "d9385bb2-830a-4ef9-c8f2-cfb6d5fd2aed",
        "colab": {
          "base_uri": "https://localhost:8080/",
          "height": 34
        }
      },
      "source": [
        "print('O custo total será de',total,'reais')"
      ],
      "execution_count": null,
      "outputs": [
        {
          "output_type": "stream",
          "text": [
            "O custo total será de 945.45 reais\n"
          ],
          "name": "stdout"
        }
      ]
    },
    {
      "cell_type": "markdown",
      "metadata": {
        "id": "d4UwkJ6UwypF"
      },
      "source": [
        "Exercício 4)Um laser vermelho (com comprimento de onda $\\lambda = 632.8$ nm) incide em uma fenda dupla produzindo um padrão de interferência com franjas claras e escuras, em um anteparo situado a uma distância D = 1.98 m da fenda. Calcule a distância $\\Delta y$ entre dois máximos consecutivos de interferência. Considere o espaçamento entre as fendas, $d$, como sendo igual a 0.250 mm. <em>Dica: a distância entre dois máximos de interferência consecutivos pode ser aproximada por $\\Delta y = \\frac{\\lambda D}{d}$."
      ]
    },
    {
      "cell_type": "code",
      "metadata": {
        "id": "V_sXoYvPw2yX"
      },
      "source": [
        "comprimento_de_onda=632.8*(10**-9)\n",
        "D=1.98\n",
        "d=0.25*(10**-3)"
      ],
      "execution_count": null,
      "outputs": []
    },
    {
      "cell_type": "code",
      "metadata": {
        "id": "o2CRx94Qy6TT"
      },
      "source": [
        "deltay=comprimento_de_onda*D/d"
      ],
      "execution_count": null,
      "outputs": []
    },
    {
      "cell_type": "code",
      "metadata": {
        "id": "zDqr7JgCzdfs",
        "outputId": "500f2e50-b25f-4c06-969f-487afa8c32bf",
        "colab": {
          "base_uri": "https://localhost:8080/",
          "height": 34
        }
      },
      "source": [
        "print('A distância  Δy  entre dois máximos consecutivos',deltay,'metros')"
      ],
      "execution_count": null,
      "outputs": [
        {
          "output_type": "stream",
          "text": [
            "A distância  Δy  entre dois máximos consecutivos 0.005011776 metros\n"
          ],
          "name": "stdout"
        }
      ]
    }
  ]
}